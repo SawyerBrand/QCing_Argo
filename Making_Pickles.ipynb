{
 "cells": [
  {
   "cell_type": "code",
   "execution_count": 6,
   "metadata": {},
   "outputs": [],
   "source": [
    "import numpy as np\n",
    "import pandas as pd\n",
    "import pickle \n",
    "\n",
    "import matplotlib.pyplot as plt\n",
    "\n",
    "# Just importing everything I need for this code"
   ]
  },
  {
   "cell_type": "markdown",
   "metadata": {},
   "source": [
    "## How to Make Pickles in Python"
   ]
  },
  {
   "cell_type": "markdown",
   "metadata": {},
   "source": [
    "by Sawyer Brand (svbrand@ucsd.edu)"
   ]
  },
  {
   "cell_type": "markdown",
   "metadata": {},
   "source": [
    "Pickles are a really easy way to store data in python when you don't want to have to re-run the creation code every ten minutes. I'm going to be using some bogus Lat/Lon/Depth data in this one. "
   ]
  },
  {
   "cell_type": "code",
   "execution_count": 21,
   "metadata": {},
   "outputs": [],
   "source": [
    "Lats = np.random.randint(90,size=10)\n",
    "Lons = np.random.randint(180,size=10)\n",
    "#randomly generate lats and lons"
   ]
  },
  {
   "cell_type": "code",
   "execution_count": 22,
   "metadata": {},
   "outputs": [],
   "source": [
    "Depths = np.random.randint(6000, size=10)\n",
    "#randomly generate depths"
   ]
  },
  {
   "cell_type": "code",
   "execution_count": 19,
   "metadata": {},
   "outputs": [
    {
     "data": {
      "text/plain": [
       "<matplotlib.collections.PathCollection at 0x123e09350>"
      ]
     },
     "execution_count": 19,
     "metadata": {},
     "output_type": "execute_result"
    },
    {
     "data": {
      "image/png": "[encoded data removed]",
      "text/plain": [
       "<Figure size 432x288 with 1 Axes>"
      ]
     },
     "metadata": {
      "needs_background": "light"
     },
     "output_type": "display_data"
    }
   ],
   "source": [
    "#just a plot to make sure i'm not messing something up\n",
    "\n",
    "plt.scatter(Lons,Lats,c=Depths)"
   ]
  },
  {
   "cell_type": "markdown",
   "metadata": {},
   "source": [
    "So now that we have our data, we are going to store it in a pickle. You can store up to 4 variables in one pickle, but I like to create pickles for each variable. It's so quick and simple it saves so much time. So I keep all my pckls in a folder called \"jar\" in every project folder I have. "
   ]
  },
  {
   "cell_type": "code",
   "execution_count": 33,
   "metadata": {},
   "outputs": [],
   "source": [
    "Test = ['hi','bye']"
   ]
  },
  {
   "cell_type": "code",
   "execution_count": 39,
   "metadata": {},
   "outputs": [],
   "source": [
    "pickle.dump(Lats, open( \"jar/Lats.pckl\", \"wb\" ) )\n",
    "pickle.dump(Lons, open( \"jar/Lons.pckl\", \"wb\" ) )\n",
    "pickle.dump(Depths, open( \"jar/Depths.pckl\", \"wb\" ) )\n",
    "\n",
    "pickle.dump(Test, open( \"jar/Test.pckl\", \"wb\" ) )"
   ]
  },
  {
   "cell_type": "markdown",
   "metadata": {},
   "source": [
    "After you run this, you should have 4 pickles in the \"jar\" folder you would have already created. This is how you create a pickle (.pckl or .p but use .pckl)! "
   ]
  },
  {
   "cell_type": "markdown",
   "metadata": {},
   "source": [
    "## How to read in pickles"
   ]
  },
  {
   "cell_type": "markdown",
   "metadata": {},
   "source": [
    "So once you create the pickles, you should comment out the code you used to create it and the variables you put into it, or just remember to not run that code. Otherwise, what's the point?"
   ]
  },
  {
   "cell_type": "markdown",
   "metadata": {},
   "source": [
    "When you want to use the data that you have, use the below code to open the pickle, load it into a variable, and then close it again. "
   ]
  },
  {
   "cell_type": "code",
   "execution_count": 35,
   "metadata": {},
   "outputs": [],
   "source": [
    "f = open('jar/Lats.pckl', 'rb')\n",
    "Lats = pickle.load(f)\n",
    "f.close()\n",
    "\n",
    "f = open('jar/Lons.pckl', 'rb')\n",
    "Lons = pickle.load(f)\n",
    "f.close()\n",
    "\n",
    "f = open('jar/Depths.pckl', 'rb')\n",
    "Depths = pickle.load(f)\n",
    "f.close()\n",
    "\n",
    "f = open('jar/Test.pckl', 'rb')\n",
    "Test = pickle.load(f)\n",
    "f.close()"
   ]
  },
  {
   "cell_type": "code",
   "execution_count": 28,
   "metadata": {},
   "outputs": [
    {
     "data": {
      "text/plain": [
       "array([38, 71, 30, 30, 10, 79, 86, 40, 75, 40])"
      ]
     },
     "execution_count": 28,
     "metadata": {},
     "output_type": "execute_result"
    }
   ],
   "source": [
    "Lats"
   ]
  },
  {
   "cell_type": "code",
   "execution_count": 31,
   "metadata": {},
   "outputs": [
    {
     "data": {
      "text/plain": [
       "array([ 57,  76, 146,  25,  22,  11,  53,  31, 139, 108])"
      ]
     },
     "execution_count": 31,
     "metadata": {},
     "output_type": "execute_result"
    }
   ],
   "source": [
    "Lons"
   ]
  },
  {
   "cell_type": "code",
   "execution_count": 32,
   "metadata": {},
   "outputs": [
    {
     "data": {
      "text/plain": [
       "array([  87, 3082, 2856, 5016, 1088, 5218, 3560, 2403, 3939, 4594])"
      ]
     },
     "execution_count": 32,
     "metadata": {},
     "output_type": "execute_result"
    }
   ],
   "source": [
    "Depths"
   ]
  },
  {
   "cell_type": "code",
   "execution_count": 36,
   "metadata": {},
   "outputs": [
    {
     "data": {
      "text/plain": [
       "['hi', 'bye']"
      ]
     },
     "execution_count": 36,
     "metadata": {},
     "output_type": "execute_result"
    }
   ],
   "source": [
    "Test"
   ]
  },
  {
   "cell_type": "markdown",
   "metadata": {},
   "source": [
    "As you can see, you can store every data type (or I haven't ever tried to save a pickle and run into issues with the data type) in a pickle. I used arrays and a list in the above examples. If you don't want your own pickle jar folder, take the \"jar/\" out of all above code. "
   ]
  },
  {
   "cell_type": "markdown",
   "metadata": {},
   "source": [
    "I'm pretty sure that's all you need for some basic, quick data storage! But if something goes wrong or I didn't explain something, let me know! "
   ]
  },
  {
   "cell_type": "code",
   "execution_count": null,
   "metadata": {},
   "outputs": [],
   "source": []
  }
 ],
 "metadata": {
  "kernelspec": {
   "display_name": "Python 3",
   "language": "python",
   "name": "python3"
  },
  "language_info": {
   "codemirror_mode": {
    "name": "ipython",
    "version": 3
   },
   "file_extension": ".py",
   "mimetype": "text/x-python",
   "name": "python",
   "nbconvert_exporter": "python",
   "pygments_lexer": "ipython3",
   "version": "3.7.6"
  }
 },
 "nbformat": 4,
 "nbformat_minor": 4
}
